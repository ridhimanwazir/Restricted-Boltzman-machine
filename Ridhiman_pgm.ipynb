{
 "cells": [
  {
   "cell_type": "markdown",
   "metadata": {},
   "source": [
    "# Restricted Boltzman Machine \n",
    "\n",
    "A restricted Boltzmann Machine is an \"Energy Based\" generative stochastic model. They were initially invented by Paul Smolensky in 1986 and were called \"Harmonium\". After the evolution of training algorithms in the mid 2000's by Geoffrey Hinton, the boltzman machine became more prominent. They gained big popularity in recent years in the context of the Netflix Prize where RBMs achieved state of the art performance in collaborative filtering and have beaten most of the competition.\n",
    "\n",
    "RBM's are useful for dimensionality reduction, classification, regression, collaborative filtering, feature learning and topic modeling. \n"
   ]
  },
  {
   "cell_type": "markdown",
   "metadata": {},
   "source": [
    "## Architecture\n",
    "RBMs are shallow, two-layer neural nets that constitute the building blocks of deep-belief networks. The first layer of the RBM is called the visible, or input, layer, and the second is the hidden layer. The absense of an output layer is apparent. As we move forward we would learn why the output layer won't be needed.\n",
    "<img src=\"figure1.png\" width=\"150\" height=\"50\" title=\"Layers in RBM\">\n",
    "Figure1: Layers in RBM\n",
    "Each circle in the figure above represents a neuron-like unit called a node, and nodes are simply where calculations take place. \n",
    "<img src=\"figure3.png\" width=\"500\" height=\"200\" title=\"Layers in RBM\">\n",
    "Figure2: Structure of RBM\n",
    "The nodes are connected to each other across layers, but no two nodes of the same layer are linked. That is, there is no intra-layer communication – this is the restriction in a restricted Boltzmann machine. Each node is a locus of computation that processes input, and begins by making stochastic decisions about whether to transmit that input or not. Each visible node takes a low-level feature from an item in the dataset to be learned."
   ]
  },
  {
   "cell_type": "markdown",
   "metadata": {},
   "source": [
    "Let's start by importing the packages that will be required in this project."
   ]
  },
  {
   "cell_type": "code",
   "execution_count": 1,
   "metadata": {},
   "outputs": [],
   "source": [
    "import numpy as np\n",
    "from collections import Counter, defaultdict\n",
    "import pandas as pd\n",
    "from scipy.sparse import coo_matrix, hstack\n",
    "from sklearn.feature_extraction.text import CountVectorizer\n",
    "np_rng = np.random.RandomState(1234) #setting the random state\n",
    "\n",
    "import time\n",
    "import warnings\n",
    "warnings.filterwarnings(\"ignore\")"
   ]
  },
  {
   "cell_type": "code",
   "execution_count": 2,
   "metadata": {},
   "outputs": [],
   "source": [
    "# graded\n",
    "# import data\n",
    "\n",
    "df = pd.read_excel(\"amazon.xlsx\")"
   ]
  },
  {
   "cell_type": "code",
   "execution_count": 3,
   "metadata": {},
   "outputs": [
    {
     "data": {
      "text/html": [
       "<div>\n",
       "<style scoped>\n",
       "    .dataframe tbody tr th:only-of-type {\n",
       "        vertical-align: middle;\n",
       "    }\n",
       "\n",
       "    .dataframe tbody tr th {\n",
       "        vertical-align: top;\n",
       "    }\n",
       "\n",
       "    .dataframe thead th {\n",
       "        text-align: right;\n",
       "    }\n",
       "</style>\n",
       "<table border=\"1\" class=\"dataframe\">\n",
       "  <thead>\n",
       "    <tr style=\"text-align: right;\">\n",
       "      <th></th>\n",
       "      <th>Text</th>\n",
       "    </tr>\n",
       "  </thead>\n",
       "  <tbody>\n",
       "    <tr>\n",
       "      <th>0</th>\n",
       "      <td>So there is no way for me to plug it in here i...</td>\n",
       "    </tr>\n",
       "    <tr>\n",
       "      <th>1</th>\n",
       "      <td>Good case, Excellent value.</td>\n",
       "    </tr>\n",
       "    <tr>\n",
       "      <th>2</th>\n",
       "      <td>Great for the jawbone.</td>\n",
       "    </tr>\n",
       "    <tr>\n",
       "      <th>3</th>\n",
       "      <td>Tied to charger for conversations lasting more...</td>\n",
       "    </tr>\n",
       "    <tr>\n",
       "      <th>4</th>\n",
       "      <td>The mic is great.</td>\n",
       "    </tr>\n",
       "  </tbody>\n",
       "</table>\n",
       "</div>"
      ],
      "text/plain": [
       "                                                Text\n",
       "0  So there is no way for me to plug it in here i...\n",
       "1                        Good case, Excellent value.\n",
       "2                             Great for the jawbone.\n",
       "3  Tied to charger for conversations lasting more...\n",
       "4                                  The mic is great."
      ]
     },
     "execution_count": 3,
     "metadata": {},
     "output_type": "execute_result"
    }
   ],
   "source": [
    "#run this and check if you have got the correct output\n",
    "df.head()"
   ]
  },
  {
   "cell_type": "markdown",
   "metadata": {},
   "source": [
    "In Topic Modelling, you find the best set of topics that describe the document. There are various ways to perform topic modelling one of which is RBM. You train your RBM on a set of documents. \n",
    "The visible layers will be the words in the text, the hidden layers will give the Topics. \n",
    "To input words into the visible layer, let's convert the train and test data you split above into a bag of words model."
   ]
  },
  {
   "cell_type": "code",
   "execution_count": 4,
   "metadata": {},
   "outputs": [],
   "source": [
    "#graded\n",
    "# create bag of words model on train and test data\n",
    "\n",
    "tf = CountVectorizer(max_df=50)\n",
    "\n",
    "# fit tf on the dataframe df\n",
    "tf = tf.fit(df['Text'])#the final shape should be (number of documents, vocabulary)\n",
    "\n",
    "\n",
    "# transform df dataframe\n",
    "trainX = tf.transform(df['Text'])"
   ]
  },
  {
   "cell_type": "code",
   "execution_count": 5,
   "metadata": {
    "scrolled": true
   },
   "outputs": [
    {
     "name": "stdout",
     "output_type": "stream",
     "text": [
      "3\n"
     ]
    },
    {
     "data": {
      "text/plain": [
       "(1000, 1825)"
      ]
     },
     "execution_count": 5,
     "metadata": {},
     "output_type": "execute_result"
    }
   ],
   "source": [
    "\n",
    "print(sum(trainX.toarray()[1]))\n",
    "trainX.shape"
   ]
  },
  {
   "cell_type": "markdown",
   "metadata": {},
   "source": [
    "You should get:\n",
    "<br>\n",
    "\n",
    "3 <br>\n",
    "(1000, 1825)"
   ]
  },
  {
   "cell_type": "markdown",
   "metadata": {},
   "source": [
    "Now that you have the bag of words model, let's define the number of visible and hidden units."
   ]
  },
  {
   "cell_type": "code",
   "execution_count": 7,
   "metadata": {},
   "outputs": [],
   "source": [
    "#graded\n",
    "# define visible units\n",
    "visibleUnits = trainX.shape[1]\n",
    "\n",
    "# assign number of units\n",
    "hiddenUnits = 5 "
   ]
  },
  {
   "cell_type": "code",
   "execution_count": 8,
   "metadata": {},
   "outputs": [
    {
     "data": {
      "text/plain": [
       "1825"
      ]
     },
     "execution_count": 8,
     "metadata": {},
     "output_type": "execute_result"
    }
   ],
   "source": [
    "visibleUnits"
   ]
  },
  {
   "cell_type": "code",
   "execution_count": 9,
   "metadata": {},
   "outputs": [],
   "source": [
    "#graded\n",
    "# utility Functions\n",
    "\n",
    "# deine the sigmoid function\n",
    "def sigmoid(X):\n",
    "    return 1/(1+np.exp(-X))"
   ]
  },
  {
   "cell_type": "markdown",
   "metadata": {},
   "source": [
    "## RBM as a Probabilistic Model\n",
    "Restricted Boltzmann Machines are probabilistic. As opposed to assigning discrete values the model assigns probabilities. At each point in time the RBM is in a certain state. The state refers to the values of neurons in the visible and hidden layers v and h. The probability that a certain state of v and h can be observed is given by the following joint distribution:\n",
    "<img src=\"figure4.png\" width=\"200\" height=\"70\" title=\"Layers in RBM\">\n",
    "\n",
    "Eq. 2. Joint Distribution for v and h.\n",
    "Here Z is called the ‘partition function’ that is the summation over all possible pairs of visible and hidden vectors."
   ]
  },
  {
   "cell_type": "markdown",
   "metadata": {},
   "source": [
    "The joint distribution is known as the Boltzmann Distribution which gives the probability that a particle can be observed in the state with the energy E. Unfortunately it is very difficult to calculate the joint probability due to the huge number of possible combination of v and h in the partition function Z. Much easier is the calculation of the conditional probabilities of state h given the state v and conditional probabilities of state v given the state h:\n",
    "<img src=\"figure5.png\" width=\"200\" height=\"70\" title=\"Layers in RBM\">\n",
    "\n",
    "Eq. 3. Conditional probabilities for h and v.\n",
    "It should be noticed beforehand (before demonstrating this fact on practical example) that each neuron in a RBM can only exist in a binary state of 0 or 1. The most interesting factor is the probability that a hidden or visible layer neuron is in the state 1 — hence activated. "
   ]
  },
  {
   "cell_type": "markdown",
   "metadata": {},
   "source": [
    "# Contrastive Divergence\n",
    "\n",
    "### Gibbs Sampling\n",
    "The first part of the training is called Gibbs Sampling. Given an input vector v we are using p(h|v) for prediction of the hidden values h via sampling. Knowing the hidden values we use p(v|h) for prediction of new input values v via sampling. This process is repeated k times. After k iterations, we obtain the visible vector $v_k$ which was recreated from original input values $v_0$.\n",
    "<img src=\"figure8.png\" width=\"500\" height=\"300\" title=\"Layers in RBM\">"
   ]
  },
  {
   "cell_type": "markdown",
   "metadata": {},
   "source": [
    "The gibbs function *gibbs* is divided into subparts: <br>\n",
    "1.*sampleHiddenLayer * <br>\n",
    "2.*sampleVisibleLayer*\n",
    "\n",
    "Let's look at *sampleHiddenLayer* now.\n",
    "\n",
    "### Sample Hidden Layer"
   ]
  },
  {
   "cell_type": "markdown",
   "metadata": {},
   "source": [
    "You already know that given an input vector v the probability for a single hidden neuron j being activated is:\n",
    "<img src=\"figure6.png\" width=\"400\" height=\"200\" title=\"Layers in RBM\">\n",
    "\n",
    "Eq. 4\n",
    "Here is σ the Sigmoid function.\n",
    "\n",
    "*sampleHiddenLayer* takes the visible layer as input to calculate the hidden layer using Eq. 4 *h1Pdf* and then samples it to get * h1_sample*\n",
    "\n",
    "    v_sample: given visible layer matrix; matrix because a batch of data points will be trained at one go\n",
    "    returns a sample vector of hidden layer and its distribution for a batch of data points\n",
    "    \n",
    "    hPdf: distribution of hidden layer; a matrix for batch of datapoints = p(h|v)\n",
    "    h_sample: sampled hidden layer matrix"
   ]
  },
  {
   "cell_type": "code",
   "execution_count": 10,
   "metadata": {},
   "outputs": [],
   "source": [
    "#graded\n",
    "def sampleHiddenLayer(v_sample):\n",
    "    \n",
    "    # write the code for calculation of hPdf using vectorized implementation of Eq 4\n",
    "    hPdf = sigmoid(hiddenBias + np.matmul(v_sample, W)) # ~ 1 line\n",
    "    \n",
    "    # Here, np.random.binomial is used to create the hidden layer sample matrix\n",
    "    h_sample = np_rng.binomial(size=hPdf.shape, n=1, p=hPdf)\n",
    "    return [hPdf, h_sample]"
   ]
  },
  {
   "cell_type": "markdown",
   "metadata": {},
   "source": [
    "### Sample Visible Layer\n",
    "Similarly, the probability that a binary state of a visible neuron i is set to 1 is:\n",
    "<img src=\"figure7.png\" width=\"400\" height=\"200\" title=\"Layers in RBM\">\n",
    "Eq. 5\n",
    "\n",
    "As seen in equation 5, we will be writing a function to sample the Visible Layer.\n",
    "This function samples the visible layer based on the sampled data of hidden layer. <br>\n",
    "\n",
    "There are some differences in writing the function *sampleVisibleLayer*. <br>Firstly, we use np.random.multinomial to sample the visible layer *v_sample* from the distribution *vPdf*. <br>Secondly,elements of *vPdf* needs to sum to 1 as the function np.random.multinomial used to sample the visible layer takes on probability distributions as *pvals*. In other words, you are finding the softmax values. <br> Thirdly, we also make use of the *D* to sample the visible layer as each document has different word count.\n",
    "    \n",
    "    h_sample: given hidden layer matrix; matrix because a batch of data points will be trained at one go\n",
    "    D: array of the sum of the row of the data vector; vector containing number of words in each document\n",
    "    \n",
    "    returns a sample vector of hidden layer and its distribution for a batch of data points\n",
    "    \n",
    "    vPdf: distribution of visible layer; a matrix for batch of datapoints = p(v|h)\n",
    "    v_sample: sampled visible layer matrix\n",
    "    "
   ]
  },
  {
   "cell_type": "code",
   "execution_count": 11,
   "metadata": {},
   "outputs": [],
   "source": [
    "#graded\n",
    "def sampleVisibleLayer(h_sample, D):\n",
    "    \n",
    "    # complete the following function such that vPdf has the sum of entries equal to 1 for each of the datapoints in the batch\n",
    "    # you have to use axis = 1 in writing the denominator\n",
    "    numerator = sigmoid(visibleBias + np.matmul(h_sample, W.T)) # ~1 line\n",
    "    denominator = numerator.sum(axis=1).reshape(h_sample.shape[0],1) # ~1 line\n",
    "    vPdf = numerator / denominator # ~1 line\n",
    "    \n",
    "    # Here np.random.multinomial is used to sample as each document has different number of words \n",
    "    # and hence D is also a parameter in sampling\n",
    "    v_sample = np.zeros((batchSize, vPdf.shape[1]))\n",
    "    for i in range(batchSize):\n",
    "        v_sample[i] = np_rng.multinomial(size=1, n=D[i], pvals=vPdf[i])\n",
    "    return [vPdf, v_sample]"
   ]
  },
  {
   "cell_type": "markdown",
   "metadata": {},
   "source": [
    "### Sampling"
   ]
  },
  {
   "cell_type": "markdown",
   "metadata": {},
   "source": [
    "We use the above functions to write the function *gibbs* to run one iteration of gibbs sampling. Note that we are calculating the visible layer samples first and then using it to calculate he hidden layer sample. It'll become clear soon why we are doing so when you write the function for Contrastive Divergence.\n",
    "    \n",
    "    Input:\n",
    "    h_sample: given hidden layer matrix; matrix because a batch of data points will be trained at one go\n",
    "    D: array of the sum of the row of the data vector; vector containing number of words in each document\n",
    "    \n",
    "    Output:\n",
    "    vPdf: distribution of visible layer\n",
    "    v_sample: sampled visible layer matrix\n",
    "    hPdf: distribution of hidden layer\n",
    "    h_sample: sampled hidden layer matrix"
   ]
  },
  {
   "cell_type": "code",
   "execution_count": 12,
   "metadata": {},
   "outputs": [],
   "source": [
    "#graded\n",
    "def gibbs(h_sample, D):\n",
    "    \n",
    "    #use sampleVIsibleLayer and sampleHiddenLayer \n",
    "    vPdf, v_sample = sampleVisibleLayer(h_sample, D)# ~1 line\n",
    "    hPdf, h_sample = sampleHiddenLayer(v_sample)# ~1 line\n",
    "    return [vPdf, v_sample, hPdf, h_sample ]"
   ]
  },
  {
   "cell_type": "markdown",
   "metadata": {},
   "source": [
    "\n",
    "### Contrastive Divergence\n",
    "\n",
    "You have learned that Contrastive Divergence updates weights after one iteration of Gibbs Sampling. Here, we shall perform *k* such iterations in Contrastive Divergence. \n",
    "The update of the weight matrix happens post the Contrastive Divergence step. "
   ]
  },
  {
   "cell_type": "markdown",
   "metadata": {},
   "source": [
    "\n",
    "Now, we will writing a funtion to run the contrastive divergence algorithm in k steps\n",
    "    \n",
    "    Input:\n",
    "    data: batch data (visible layer)\n",
    "    k: no of iterations for gibbs sampling\n",
    "    \n",
    "    Output:\n",
    "    hiddenPDF_data: distribution of the hidden layer based on data\n",
    "    visibleSamples: visible samples generated by gibbs sampling \n",
    "    hiddenPDF: distribution of the hidden layer based on samples generated by gibbs"
   ]
  },
  {
   "cell_type": "code",
   "execution_count": 13,
   "metadata": {},
   "outputs": [],
   "source": [
    "#graded\n",
    "def cd_k(data,k):\n",
    "    \n",
    "    D = data.sum(axis=1)\n",
    "    hiddenPDF_data, hiddenSample_data = sampleHiddenLayer(data)# sample the hidden layer using the input data\n",
    "    chain_start = hiddenSample_data\n",
    "\n",
    "    for step in range(k):\n",
    "        if step == 0:\n",
    "            visiblePDF, visibleSamples, hiddenPDF, hiddenSamples  = gibbs(chain_start, D) # perform gibbs sampling using chain_start\n",
    "        else:\n",
    "            visiblePDF, visibleSamples, hiddenPDF, hiddenSamples = gibbs(hiddenSamples,D)# perform gibbs sampling using hiddenSamples\n",
    "    return hiddenPDF_data, visibleSamples, hiddenPDF\n"
   ]
  },
  {
   "cell_type": "markdown",
   "metadata": {},
   "source": [
    "## Training the Model\n",
    "\n",
    "Vectors $v_0$ and $v_k$ are used to calculate the activation probabilities for hidden layers $p(h_0|v_0)$ and $p(h_k|v_k)$ (Eq.4). The difference between the outer products of those probabilities with input vectors $v_0$ and $v_k$ results in the update matrix:\n",
    "<img src=\"figure9.png\" width=\"300\" height=\"200\" title=\"Layers in RBM\">\n",
    "Eq. 6. Update matrix. **Figure out** the vectorized implementation for this.\n",
    "\n",
    "In order to calculate $\\Delta (bias)$, <br>\n",
    "<center>$\\Delta (visiblebias) = average\\_ across\\_ batch(v_0 - v_k)$ </center> \n",
    "<center>$\\Delta (hiddenbias) = average\\_across\\_ batch(p(h_0|v_0) - p(h_k|v_k))$ </center> \n",
    "\n",
    "Using the update matrix the new weights can be calculated with momentum gradient ascent, given by:\n",
    "<center>  $mW_t = \\gamma \\ mW_{t-1} - \\Delta W$</center> \n",
    "<center>  $mvisiblebias_t = \\gamma \\ mvisiblebias_{t-1} - \\Delta visiblebias$</center>\n",
    "<center>  $mhiddenbias_t = \\gamma \\ mhiddenbias_{t-1} - \\Delta hiddenbias$</center><br>\n",
    "<center>  $W_t = W_{t-1} + \\alpha \\ mW_t$</center> \n",
    "<center>  $visiblebias_t = visiblebias_{t-1} + \\alpha \\ mvisiblebias_t$</center> \n",
    "<center>  $hiddenbias_t = hiddenbias_{t-1} + \\alpha \\ mhiddenbias_t$</center> \n",
    "\n",
    "\n",
    "Eq. 7. Update rule for the weights.\n",
    "\n",
    "Note that in the code implementation below <br>\n",
    " hiddenPDF_data is $p(h_0|v_0)$ <br>\n",
    " visibleSamples is $v_k$ <br>\n",
    " hiddenPDF is $p(h_k|v_k)$ <br>\n",
    " mdata is $v_0$ <br>\n",
    " eta is $\\alpha$ <br>\n",
    " mrate is $\\gamma$ <br>\n",
    "These will be helpful in writing the weight updates.\n",
    "\n",
    "In this we will write a function which iterates over our data for *epochs*.\n",
    "At every epoch we shuffle the data and then run CD on a mini batch size defined by *batchSize*"
   ]
  },
  {
   "cell_type": "markdown",
   "metadata": {},
   "source": [
    "### Initializations"
   ]
  },
  {
   "cell_type": "code",
   "execution_count": 14,
   "metadata": {},
   "outputs": [],
   "source": [
    "\"\"\"\n",
    "visibleUnits: no of words in your Bag of words Model\n",
    "hiddenUnits: no of topics\n",
    "batchSize: data slice to be selected \n",
    "epochs: no of iterations\n",
    "eta: learning rate\n",
    "mrate: momentum coefficient\n",
    "W : weights between the visible and hidden layer\n",
    "visibleBias, hiddenBias: biases for visible and hidden layer respectively\n",
    "\"\"\"\n",
    "\n",
    "# define batch size\n",
    "batchSize = 200\n",
    "\n",
    "epochs = 100\n",
    "eta = 0.05 \n",
    "mrate = 0.5\n",
    "\n",
    "# initialise weights\n",
    "weightinit=0.01\n",
    "W = weightinit * np_rng.randn(visibleUnits, hiddenUnits)\n",
    "visibleBias = weightinit * np_rng.randn(visibleUnits)\n",
    "hiddenBias = np.zeros((hiddenUnits))\n",
    "\n",
    "# we shall use 10 interations of gibbs sampling\n",
    "k=10"
   ]
  },
  {
   "cell_type": "markdown",
   "metadata": {},
   "source": [
    "### Training"
   ]
  },
  {
   "cell_type": "code",
   "execution_count": 15,
   "metadata": {},
   "outputs": [],
   "source": [
    "\n",
    "#graded\n",
    "def train(dataX,k):\n",
    "\n",
    "    # Initialising in similar way\n",
    "    mW = np_rng.randn(visibleUnits, hiddenUnits) # initialise momentum_weights\n",
    "    mvisibleBias = np_rng.randn(visibleUnits) # initialise momentum_visiblebiases\n",
    "    mhiddenBias = np_rng.randn((hiddenUnits)) # initialise momentum_hiddenbiases\n",
    "\n",
    "    global W,visibleBias,hiddenBias,mrate,batchSize,epochs # calling the variables initiliazed at the begining\n",
    "    for epoch in range(epochs):\n",
    "        print(\"Progress - Epoch : \", epoch)\n",
    "        np_rng.shuffle(dataX) #shuffling the data\n",
    "        \n",
    "        for i in range(0, dataX.shape[0], batchSize):\n",
    "            mData = dataX[i: i + batchSize] #select a batch of datapoints\n",
    "            hiddenPDF_data, visibleSamples, hiddenPDF =  cd_k(mData,k) # perfrom Contrastive Divergence on the batch for k iterations\n",
    "            \n",
    "            dW = ((np.matmul(mData.T, hiddenPDF_data)) - (np.matmul(visibleSamples.T, hiddenPDF)))\n",
    "            mW = (mrate * mW) - dW #write the momentum update equation for weight matrix\n",
    "            \n",
    "            dvisibleBias = np.mean(mData - visibleSamples, axis=0)\n",
    "            mvisibleBias =  (mrate * mvisibleBias) - dvisibleBias #write the momentum update equation for visiblebias vector\n",
    "            \n",
    "            dhiddenBias = np.mean(hiddenPDF_data - hiddenPDF, axis=0)\n",
    "            mhiddenBias =  (mrate * mhiddenBias) - dhiddenBias #write the momentum update equation for hiddenbias vector\n",
    "\n",
    "            W =  W + (eta * mW) #weight update equation\n",
    "            visibleBias =  visibleBias + (eta * mvisibleBias) #visible bias update equation\n",
    "            hiddenBias =  hiddenBias + (eta * mhiddenBias) #hidden bias update equation"
   ]
  },
  {
   "cell_type": "markdown",
   "metadata": {},
   "source": [
    "## Train the Model\n",
    "\n",
    "This will take around 10 minutes of time to run."
   ]
  },
  {
   "cell_type": "code",
   "execution_count": 16,
   "metadata": {},
   "outputs": [
    {
     "name": "stdout",
     "output_type": "stream",
     "text": [
      "Progress - Epoch :  0\n",
      "Progress - Epoch :  1\n",
      "Progress - Epoch :  2\n",
      "Progress - Epoch :  3\n",
      "Progress - Epoch :  4\n",
      "Progress - Epoch :  5\n",
      "Progress - Epoch :  6\n",
      "Progress - Epoch :  7\n",
      "Progress - Epoch :  8\n",
      "Progress - Epoch :  9\n",
      "Progress - Epoch :  10\n",
      "Progress - Epoch :  11\n",
      "Progress - Epoch :  12\n",
      "Progress - Epoch :  13\n",
      "Progress - Epoch :  14\n",
      "Progress - Epoch :  15\n",
      "Progress - Epoch :  16\n",
      "Progress - Epoch :  17\n",
      "Progress - Epoch :  18\n",
      "Progress - Epoch :  19\n",
      "Progress - Epoch :  20\n",
      "Progress - Epoch :  21\n",
      "Progress - Epoch :  22\n",
      "Progress - Epoch :  23\n",
      "Progress - Epoch :  24\n",
      "Progress - Epoch :  25\n",
      "Progress - Epoch :  26\n",
      "Progress - Epoch :  27\n",
      "Progress - Epoch :  28\n",
      "Progress - Epoch :  29\n",
      "Progress - Epoch :  30\n",
      "Progress - Epoch :  31\n",
      "Progress - Epoch :  32\n",
      "Progress - Epoch :  33\n",
      "Progress - Epoch :  34\n",
      "Progress - Epoch :  35\n",
      "Progress - Epoch :  36\n",
      "Progress - Epoch :  37\n",
      "Progress - Epoch :  38\n",
      "Progress - Epoch :  39\n",
      "Progress - Epoch :  40\n",
      "Progress - Epoch :  41\n",
      "Progress - Epoch :  42\n",
      "Progress - Epoch :  43\n",
      "Progress - Epoch :  44\n",
      "Progress - Epoch :  45\n",
      "Progress - Epoch :  46\n",
      "Progress - Epoch :  47\n",
      "Progress - Epoch :  48\n",
      "Progress - Epoch :  49\n",
      "Progress - Epoch :  50\n",
      "Progress - Epoch :  51\n",
      "Progress - Epoch :  52\n",
      "Progress - Epoch :  53\n",
      "Progress - Epoch :  54\n",
      "Progress - Epoch :  55\n",
      "Progress - Epoch :  56\n",
      "Progress - Epoch :  57\n",
      "Progress - Epoch :  58\n",
      "Progress - Epoch :  59\n",
      "Progress - Epoch :  60\n",
      "Progress - Epoch :  61\n",
      "Progress - Epoch :  62\n",
      "Progress - Epoch :  63\n",
      "Progress - Epoch :  64\n",
      "Progress - Epoch :  65\n",
      "Progress - Epoch :  66\n",
      "Progress - Epoch :  67\n",
      "Progress - Epoch :  68\n",
      "Progress - Epoch :  69\n",
      "Progress - Epoch :  70\n",
      "Progress - Epoch :  71\n",
      "Progress - Epoch :  72\n",
      "Progress - Epoch :  73\n",
      "Progress - Epoch :  74\n",
      "Progress - Epoch :  75\n",
      "Progress - Epoch :  76\n",
      "Progress - Epoch :  77\n",
      "Progress - Epoch :  78\n",
      "Progress - Epoch :  79\n",
      "Progress - Epoch :  80\n",
      "Progress - Epoch :  81\n",
      "Progress - Epoch :  82\n",
      "Progress - Epoch :  83\n",
      "Progress - Epoch :  84\n",
      "Progress - Epoch :  85\n",
      "Progress - Epoch :  86\n",
      "Progress - Epoch :  87\n",
      "Progress - Epoch :  88\n",
      "Progress - Epoch :  89\n",
      "Progress - Epoch :  90\n",
      "Progress - Epoch :  91\n",
      "Progress - Epoch :  92\n",
      "Progress - Epoch :  93\n",
      "Progress - Epoch :  94\n",
      "Progress - Epoch :  95\n",
      "Progress - Epoch :  96\n",
      "Progress - Epoch :  97\n",
      "Progress - Epoch :  98\n",
      "Progress - Epoch :  99\n"
     ]
    }
   ],
   "source": [
    "train(trainX.toarray(),k)"
   ]
  },
  {
   "cell_type": "markdown",
   "metadata": {},
   "source": [
    "# Word Distribution based on Topics\n",
    "In this function, we are finding the distribution of words over the topics. You can take a look at the words under each topic and see what they are talking about. The number of topics is the number of neurons in the hidden layer. <br>\n",
    "<br>\n",
    "\n",
    "For each topic, the function prints the top 15 words that describe the topic. You can see that some of the words occur in multiple topics.\n",
    "\n",
    "    topic: number of hidden layers\n",
    "    voc: indexing of the vocabulary\n",
    "    \n",
    "Feel free to change the number of iterations of gibbs sampling in Contrastive Divergence and see how the distribution of words change under the topics."
   ]
  },
  {
   "cell_type": "code",
   "execution_count": 17,
   "metadata": {},
   "outputs": [],
   "source": [
    "def worddist( topic, voc):\n",
    "    \n",
    "    \"\"\"\n",
    "    Initialize every topic =1 once \n",
    "    \"\"\"\n",
    "    vecTopics = np.zeros((topic, topic))\n",
    "    for i in range(len(vecTopics)):\n",
    "        vecTopics[i][i] = 1\n",
    "    \n",
    "    \n",
    "    for i, vecTopic in enumerate(vecTopics):\n",
    "       \n",
    "        numerator = np.exp(np.dot(vecTopic, W.T) + visibleBias)\n",
    "        denominator = numerator.sum().reshape((1, 1))\n",
    "        word_distribution = (numerator/denominator).flatten()\n",
    "        \n",
    "        tmpDict = {}\n",
    "        for j in voc.keys():\n",
    "            tmpDict[j] = word_distribution[voc[j]]\n",
    "        print('topic', str(i), ':', vecTopic)\n",
    "        lm=0\n",
    "        for word, prob in sorted(tmpDict.items(), key=lambda x:x[1], reverse=True):\n",
    "            print ( word, str(prob))\n",
    "            lm+=1\n",
    "            if lm==15:\n",
    "                break\n",
    "        print('\\n')"
   ]
  },
  {
   "cell_type": "code",
   "execution_count": 18,
   "metadata": {},
   "outputs": [
    {
     "name": "stdout",
     "output_type": "stream",
     "text": [
      "topic 0 : [1. 0. 0. 0. 0.]\n",
      "designed 0.12633749015945953\n",
      "riingtones 0.0484076633483756\n",
      "hair 0.047565371740866745\n",
      "soon 0.034701954166460165\n",
      "message 0.03296349539176049\n",
      "generally 0.029589803682434624\n",
      "utter 0.028744126117965202\n",
      "usage 0.0286787062005346\n",
      "promised 0.02723974800442846\n",
      "crack 0.024238504005242804\n",
      "standard 0.02331282758104418\n",
      "arguing 0.021610087603343143\n",
      "discarded 0.020117562948234826\n",
      "channel 0.013571629824191571\n",
      "appointments 0.013195384078365116\n",
      "\n",
      "\n",
      "topic 1 : [0. 1. 0. 0. 0.]\n",
      "designed 0.1351838790559448\n",
      "riingtones 0.0467899414439284\n",
      "hair 0.03838941308700741\n",
      "generally 0.0367742898990752\n",
      "soon 0.03406975229325959\n",
      "message 0.032561990330310236\n",
      "utter 0.027716799226308247\n",
      "usage 0.027409255137541878\n",
      "promised 0.027247656231279067\n",
      "crack 0.025485525451911323\n",
      "standard 0.024032699297318855\n",
      "arguing 0.023080456748240264\n",
      "discarded 0.01852662302913015\n",
      "appointments 0.015530110987103952\n",
      "channel 0.014846285927732556\n",
      "\n",
      "\n",
      "topic 2 : [0. 0. 1. 0. 0.]\n",
      "designed 0.12588220186646526\n",
      "riingtones 0.05030109774507048\n",
      "hair 0.045511316212778354\n",
      "generally 0.03624102154133897\n",
      "soon 0.034553973923826\n",
      "message 0.03210014403192566\n",
      "utter 0.029502639556500218\n",
      "promised 0.02890778019483751\n",
      "usage 0.024973218768245254\n",
      "crack 0.024936680568531693\n",
      "standard 0.023751686809312226\n",
      "arguing 0.020635247758822268\n",
      "discarded 0.01796312177053721\n",
      "appointments 0.014200966112149065\n",
      "channel 0.012921420449584052\n",
      "\n",
      "\n",
      "topic 3 : [0. 0. 0. 1. 0.]\n",
      "designed 0.11948892968372025\n",
      "riingtones 0.05173813605775346\n",
      "hair 0.04901863404828587\n",
      "soon 0.035196492155583896\n",
      "generally 0.034594345974704205\n",
      "message 0.030683863044419946\n",
      "promised 0.028657660379724816\n",
      "usage 0.02818237993031\n",
      "utter 0.0263880430371787\n",
      "standard 0.024171983415616927\n",
      "crack 0.022307213149698787\n",
      "arguing 0.02070511426088026\n",
      "discarded 0.018287414297813834\n",
      "channel 0.014320250830126719\n",
      "appointments 0.013879002686477281\n",
      "\n",
      "\n",
      "topic 4 : [0. 0. 0. 0. 1.]\n",
      "designed 0.12339047107650208\n",
      "riingtones 0.05375693074216674\n",
      "hair 0.04470526181012049\n",
      "generally 0.035197226244053685\n",
      "soon 0.03330396297813857\n",
      "message 0.03175544106323482\n",
      "promised 0.02778271134880194\n",
      "utter 0.026353857965745967\n",
      "usage 0.024902134805792203\n",
      "crack 0.024192322864977803\n",
      "standard 0.02386761605758206\n",
      "arguing 0.022451328779145775\n",
      "discarded 0.019607674462662924\n",
      "appointments 0.013918805113476243\n",
      "channel 0.012907203715358619\n",
      "\n",
      "\n"
     ]
    }
   ],
   "source": [
    "worddist( hiddenUnits, tf.vocabulary_)"
   ]
  },
  {
   "cell_type": "markdown",
   "metadata": {},
   "source": [
    "The output shows the probability assigned to each word for every topic present."
   ]
  },
  {
   "cell_type": "code",
   "execution_count": null,
   "metadata": {},
   "outputs": [],
   "source": []
  }
 ],
 "metadata": {
  "anaconda-cloud": {},
  "kernelspec": {
   "display_name": "Python 3",
   "language": "python",
   "name": "python3"
  },
  "language_info": {
   "codemirror_mode": {
    "name": "ipython",
    "version": 3
   },
   "file_extension": ".py",
   "mimetype": "text/x-python",
   "name": "python",
   "nbconvert_exporter": "python",
   "pygments_lexer": "ipython3",
   "version": "3.8.3"
  }
 },
 "nbformat": 4,
 "nbformat_minor": 1
}
